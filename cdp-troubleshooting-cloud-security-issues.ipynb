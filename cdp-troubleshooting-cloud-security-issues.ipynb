{
 "cells": [
  {
   "cell_type": "markdown",
   "id": "d4ee9e4b",
   "metadata": {},
   "source": [
    "***\n",
    "< [Home](https://github.com/SeanOhAileasa) | [README](https://github.com/SeanOhAileasa/cdp-troubleshooting-cloud-security-issues/blob/main/README.md) >\n",
    "\n",
    "## CompTIA Cloud+ - Course Material 2022\n",
    "###### Topic: ``Troubleshooting Cloud Security Issues``\n",
    "***"
   ]
  },
  {
   "cell_type": "markdown",
   "id": "e7228f57",
   "metadata": {},
   "source": [
    "<a id=\"top\"></a>\n",
    "***\n",
    "## Table of Contents\n",
    "***"
   ]
  },
  {
   "cell_type": "markdown",
   "id": "c2bb5e7b",
   "metadata": {},
   "source": [
    "### [Troubleshooting Cloud Security Issues](#aa) <br/><br/>\n",
    "<hr width=50%;>"
   ]
  },
  {
   "cell_type": "markdown",
   "id": "a298abd9",
   "metadata": {},
   "source": [
    "### [Cloud Life Cycle Management](#A) <br/><br/>\n",
    "<hr width=50%;>"
   ]
  },
  {
   "cell_type": "markdown",
   "id": "6e004e91",
   "metadata": {},
   "source": [
    "### [Cloud Change Management](#B) <br/><br/>\n",
    "<hr width=50%;>"
   ]
  },
  {
   "cell_type": "markdown",
   "id": "48035dfb",
   "metadata": {},
   "source": [
    "### [Cloud Asset Management](#C) <br/><br/>\n",
    "<hr width=50%;>"
   ]
  },
  {
   "cell_type": "markdown",
   "id": "229c743d",
   "metadata": {},
   "source": [
    "### [Cloud Patching](#D) <br/><br/>\n",
    "<hr width=50%;>"
   ]
  },
  {
   "cell_type": "markdown",
   "id": "346ccfd4",
   "metadata": {},
   "source": [
    "### [Cloud Process Improvements](#E) <br/><br/>\n",
    "<hr width=50%;>"
   ]
  },
  {
   "cell_type": "markdown",
   "id": "26cd9800",
   "metadata": {},
   "source": [
    "### [Cloud Upgrade Methods](#F) <br/><br/>\n",
    "<hr width=50%;>"
   ]
  },
  {
   "cell_type": "markdown",
   "id": "8a02103f",
   "metadata": {},
   "source": [
    "### [Cloud Dashboards and Reporting](#G) <br/><br/>\n",
    "<hr width=50%;>"
   ]
  },
  {
   "cell_type": "markdown",
   "id": "0633938f",
   "metadata": {},
   "source": [
    "### [Cloud System Backup Types](#H) <br/><br/>\n",
    "<hr width=50%;>"
   ]
  },
  {
   "cell_type": "markdown",
   "id": "e15c6fc5",
   "metadata": {},
   "source": [
    "### [Cloud System Backup Objects](#I) <br/><br/>\n",
    "<hr width=50%;>"
   ]
  },
  {
   "cell_type": "markdown",
   "id": "3fbde8b1",
   "metadata": {},
   "source": [
    "### [Cloud Backup Confirmation](#J) <br/><br/>\n",
    "<hr width=50%;>"
   ]
  },
  {
   "cell_type": "markdown",
   "id": "cfa53104",
   "metadata": {},
   "source": [
    "### [Course Summary](#K) <br/><br/>\n",
    "<hr width=50%;>"
   ]
  },
  {
   "cell_type": "markdown",
   "id": "bf2b95e2",
   "metadata": {},
   "source": [
    "***\n",
    "## END"
   ]
  },
  {
   "cell_type": "markdown",
   "id": "34aa6eb5",
   "metadata": {},
   "source": [
    "< [Table of Contents](#top) | [References](#references) >\n",
    "<a id=\"aa\"></a>\n",
    "***\n",
    "### Troubleshooting Cloud Security Issues\n",
    "***"
   ]
  },
  {
   "cell_type": "markdown",
   "id": "96059a8d",
   "metadata": {},
   "source": []
  },
  {
   "cell_type": "markdown",
   "id": "e073fcd4",
   "metadata": {},
   "source": [
    "< [Table of Contents](#top) | [References](#references) >\n",
    "<a id=\"A\"></a>\n",
    "***\n",
    "### Cloud Life Cycle Management\n",
    "*** "
   ]
  },
  {
   "cell_type": "markdown",
   "id": "4ec4dca0",
   "metadata": {},
   "source": []
  },
  {
   "cell_type": "markdown",
   "id": "b1de81f7",
   "metadata": {},
   "source": [
    "< [Table of Contents](#top) | [References](#references) >\n",
    "<a id=\"B\"></a>\n",
    "***\n",
    "### Cloud Change Management\n",
    "*** "
   ]
  },
  {
   "cell_type": "markdown",
   "id": "30f6c201",
   "metadata": {},
   "source": []
  },
  {
   "cell_type": "markdown",
   "id": "26660324",
   "metadata": {},
   "source": [
    "< [Table of Contents](#top) | [References](#references) >\n",
    "<a id=\"C\"></a>\n",
    "***\n",
    "### Cloud Asset Management\n",
    "*** "
   ]
  },
  {
   "cell_type": "markdown",
   "id": "9d05a90a",
   "metadata": {},
   "source": []
  },
  {
   "cell_type": "markdown",
   "id": "2ae72408",
   "metadata": {},
   "source": [
    "< [Table of Contents](#top) | [References](#references) >\n",
    "<a id=\"D\"></a>\n",
    "***\n",
    "### Cloud Patching\n",
    "*** "
   ]
  },
  {
   "cell_type": "markdown",
   "id": "46d6c956",
   "metadata": {},
   "source": []
  },
  {
   "cell_type": "markdown",
   "id": "ceeea8e5",
   "metadata": {},
   "source": [
    "< [Table of Contents](#top) | [References](#references) >\n",
    "<a id=\"E\"></a>\n",
    "***\n",
    "### Cloud Process Improvements\n",
    "*** "
   ]
  },
  {
   "cell_type": "markdown",
   "id": "a37d95eb",
   "metadata": {},
   "source": []
  },
  {
   "cell_type": "markdown",
   "id": "8c75cc38",
   "metadata": {},
   "source": [
    "< [Table of Contents](#top) | [References](#references) >\n",
    "<a id=\"F\"></a>\n",
    "***\n",
    "### Cloud Upgrade Methods\n",
    "*** "
   ]
  },
  {
   "cell_type": "markdown",
   "id": "be0eb336",
   "metadata": {},
   "source": []
  },
  {
   "cell_type": "markdown",
   "id": "f904dbc6",
   "metadata": {},
   "source": [
    "< [Table of Contents](#top) | [References](#references) >\n",
    "<a id=\"G\"></a>\n",
    "***\n",
    "### Cloud Dashboards and Reporting\n",
    "*** "
   ]
  },
  {
   "cell_type": "markdown",
   "id": "b4a4c00b",
   "metadata": {},
   "source": []
  },
  {
   "cell_type": "markdown",
   "id": "fdcfc403",
   "metadata": {},
   "source": [
    "< [Table of Contents](#top) | [References](#references) >\n",
    "<a id=\"H\"></a>\n",
    "***\n",
    "### Cloud System Backup Types\n",
    "*** "
   ]
  },
  {
   "cell_type": "markdown",
   "id": "ae85ca12",
   "metadata": {},
   "source": []
  },
  {
   "cell_type": "markdown",
   "id": "30518838",
   "metadata": {},
   "source": [
    "< [Table of Contents](#top) | [References](#references) >\n",
    "<a id=\"I\"></a>\n",
    "***\n",
    "### Cloud System Backup Objects\n",
    "*** "
   ]
  },
  {
   "cell_type": "markdown",
   "id": "fa9fd2a8",
   "metadata": {},
   "source": []
  },
  {
   "cell_type": "markdown",
   "id": "6804e321",
   "metadata": {},
   "source": [
    "< [Table of Contents](#top) | [References](#references) >\n",
    "<a id=\"J\"></a>\n",
    "***\n",
    "### Cloud Backup Confirmation\n",
    "*** "
   ]
  },
  {
   "cell_type": "markdown",
   "id": "452fc181",
   "metadata": {},
   "source": []
  },
  {
   "cell_type": "markdown",
   "id": "173e78b5",
   "metadata": {},
   "source": [
    "< [Table of Contents](#top) | [References](#references) >\n",
    "<a id=\"K\"></a>\n",
    "***\n",
    "### Course Summary\n",
    "*** "
   ]
  },
  {
   "cell_type": "markdown",
   "id": "2cc20932",
   "metadata": {},
   "source": [
    "***\n",
    "## END"
   ]
  },
  {
   "cell_type": "markdown",
   "id": "e0e42d51",
   "metadata": {},
   "source": [
    "< [Table of Contents](#top) >\n",
    "<a id=\"references\"></a>\n",
    "***\n",
    "## References\n",
    "***"
   ]
  },
  {
   "cell_type": "markdown",
   "id": "757bf6de",
   "metadata": {},
   "source": [
    "&nbsp;&nbsp;&nbsp;&nbsp;&nbsp;&nbsp;&nbsp;&nbsp;&nbsp;skillsoft, \"Troubleshooting Cloud Security Issues,\" [skillsoft.com](https://web.archive.org/web/20220403100053/https://www.skillsoft.com/), n.d.."
   ]
  },
  {
   "cell_type": "markdown",
   "id": "b33c372a",
   "metadata": {},
   "source": [
    "***\n",
    "## END"
   ]
  },
  {
   "cell_type": "markdown",
   "id": "e5961b4d",
   "metadata": {},
   "source": [
    "< [Table of Contents](#top) | [References](#references) >\n",
    "<a id=\"appendix\"></a>\n",
    "***\n",
    "## Appendix\n",
    "***"
   ]
  },
  {
   "cell_type": "markdown",
   "id": "00d82a82",
   "metadata": {},
   "source": [
    "***\n",
    "## END"
   ]
  },
  {
   "cell_type": "code",
   "execution_count": 1,
   "id": "706756a2",
   "metadata": {},
   "outputs": [
    {
     "name": "stderr",
     "output_type": "stream",
     "text": [
      "C:\\Users\\SeanOhAileasa\\AppData\\Local\\Temp\\ipykernel_14280\\1322614208.py:1: DeprecationWarning: Importing display from IPython.core.display is deprecated since IPython 7.14, please import from IPython display\n",
      "  from IPython.core.display import display,HTML\n"
     ]
    },
    {
     "data": {
      "text/html": [
       "<style>.container { width:100% !important; }</style>"
      ],
      "text/plain": [
       "<IPython.core.display.HTML object>"
      ]
     },
     "metadata": {},
     "output_type": "display_data"
    }
   ],
   "source": [
    "from IPython.core.display import display,HTML\n",
    "display(HTML(\"<style>.container { width:100% !important; }</style>\"))"
   ]
  },
  {
   "cell_type": "markdown",
   "id": "899c1783",
   "metadata": {},
   "source": [
    "# END JUPYTER NOTEBOOK"
   ]
  }
 ],
 "metadata": {
  "kernelspec": {
   "display_name": "Python 3 (ipykernel)",
   "language": "python",
   "name": "python3"
  },
  "language_info": {
   "codemirror_mode": {
    "name": "ipython",
    "version": 3
   },
   "file_extension": ".py",
   "mimetype": "text/x-python",
   "name": "python",
   "nbconvert_exporter": "python",
   "pygments_lexer": "ipython3",
   "version": "3.9.12"
  }
 },
 "nbformat": 4,
 "nbformat_minor": 5
}
